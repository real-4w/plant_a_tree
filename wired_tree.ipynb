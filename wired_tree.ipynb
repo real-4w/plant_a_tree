{
 "metadata": {
  "language_info": {
   "codemirror_mode": {
    "name": "ipython",
    "version": 3
   },
   "file_extension": ".py",
   "mimetype": "text/x-python",
   "name": "python",
   "nbconvert_exporter": "python",
   "pygments_lexer": "ipython3",
   "version": "3.8.5-final"
  },
  "orig_nbformat": 2,
  "kernelspec": {
   "name": "python38564bit986bc0583b6a45899642f216beb4a68a",
   "display_name": "Python 3.8.5 64-bit"
  }
 },
 "nbformat": 4,
 "nbformat_minor": 2,
 "cells": [
  {
   "cell_type": "code",
   "execution_count": 3,
   "metadata": {},
   "outputs": [
    {
     "output_type": "stream",
     "name": "stdout",
     "text": [
      "Starting CO2 Concentration =  400  ppm\nCO2 with 1 Tree per Person  =  376.0027316201172  ppm\n"
     ]
    }
   ],
   "source": [
    "#GlowScript 2.9 VPython\n",
    "\n",
    "pi=3.14159\n",
    "\n",
    "na=6.022e23\n",
    "#diameter of tree\n",
    "d=1.5 #m\n",
    "#height of tree\n",
    "h=15 #\n",
    "#density of tree\n",
    "rho=500 #kg/m^3\n",
    "\n",
    "V=pi*h*(d/2)**2\n",
    "mt=rho*V\n",
    "\n",
    "#fraction carbon in tree\n",
    "fcarbon=0.5\n",
    "mcarbon=fcarbon*mt\n",
    "mucarbon=0.012 #kg/mole\n",
    "ncarbon=mcarbon*na/mucarbon\n",
    "\n",
    "#number of trees\n",
    "Ntree=7.5e9\n",
    "NCO2=Ntree*ncarbon\n",
    "\n",
    "muair=28.97e-3 #kg/mol\n",
    "#mass of atmosphere\n",
    "mair=5e18 #kg\n",
    "\n",
    "Nair=mair*na/muair\n",
    "\n",
    "fractionCO2=NCO2/Nair\n",
    "ppmCO2=fractionCO2*1e6\n",
    "newppm=400-ppmCO2\n",
    "print(\"Starting CO2 Concentration = \",400,\" ppm\")\n",
    "print(\"CO2 with 1 Tree per Person  = \",newppm,\" ppm\")\n"
   ]
  },
  {
   "cell_type": "code",
   "execution_count": null,
   "metadata": {},
   "outputs": [],
   "source": []
  }
 ]
}