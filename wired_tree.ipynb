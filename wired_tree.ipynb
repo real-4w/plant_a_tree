{
 "metadata": {
  "language_info": {
   "codemirror_mode": {
    "name": "ipython",
    "version": 3
   },
   "file_extension": ".py",
   "mimetype": "text/x-python",
   "name": "python",
   "nbconvert_exporter": "python",
   "pygments_lexer": "ipython3",
   "version": "3.8.5-final"
  },
  "orig_nbformat": 2,
  "kernelspec": {
   "name": "python38564bit986bc0583b6a45899642f216beb4a68a",
   "display_name": "Python 3.8.5 64-bit"
  }
 },
 "nbformat": 4,
 "nbformat_minor": 2,
 "cells": [
  {
   "source": [
    "Based on https://www.wired.com/story/plant-a-tree-for-climate-change/\n",
    "\n",
    "Carbon Content of a Tree.\n",
    "\n",
    "I’m going to walk through a rough estimation. This is a good way to approach policy questions on a first cut; if the results are promising, you can always loop back and do a more sophisticated analysis.\n",
    "\n",
    "So to start, let’s figure out how much carbon a single tree can hold. Imagine a generic tree. Since I live in Louisiana, I’m picturing a pine (though we have some awesome oak trees here too).\n",
    "\n",
    "The pine is nice because it has a tractable shape—it's basically just a long skinny cylinder (ignoring the branches). I’ll say it has a diameter (d ) of 1.5 meters and a height (h ) of 15 meters. I can just plug those values into the formula for the volume of a cylinder to get the amount of wood my tree contains. \n",
    "\n",
    "See: https://media.wired.com/photos/5d94faaaa351410008cb5a5b/master/w_1600%2Cc_limit/Science_trees_volume-(1).jpg"
   ],
   "cell_type": "markdown",
   "metadata": {}
  },
  {
   "source": [
    "pi=3.14159              # define pi\n",
    "d=1.5                   # diameter of tree m    \n",
    "h=15                    # height of tree\n",
    "rho=500                 # density of tree kg/m^3 \n",
    "#============================================================================\n",
    "V=pi*h*(d/2)**2         \n",
    "print(f\"Number of cubic meters of wood is {V}\")"
   ],
   "cell_type": "code",
   "metadata": {},
   "execution_count": 1,
   "outputs": [
    {
     "output_type": "stream",
     "name": "stdout",
     "text": [
      "Number of cubic meters of wood is 26.507165625\n"
     ]
    }
   ]
  },
  {
   "source": [
    "This gives me 106 (! incorrect) cubic meters of wood. To convert this to mass, I’m going to assume a wood density (ρ) of 500 kilograms per cubic meter, which is half the density of water. The mass of my generic tree would then be:"
   ],
   "cell_type": "markdown",
   "metadata": {}
  },
  {
   "cell_type": "code",
   "execution_count": 2,
   "metadata": {},
   "outputs": [
    {
     "output_type": "stream",
     "name": "stdout",
     "text": [
      "Mass of my tree would be 13253.582812499999\n"
     ]
    }
   ],
   "source": [
    "fcarbon=0.5             # fraction carbon in tree\n",
    "#============================================================================\n",
    "mt=rho*V\n",
    "print(f\"Mass of my tree would be {mt}\")"
   ]
  },
  {
   "source": [
    "That works out to 53,000 (! incorrect) kilograms per tree. But how much of that is carbon? Trees are made of many different elements, like hydrogen and nitrogen, but let’s say it’s about half carbon. At least that's an estimate that agrees with Wikipedia. So the mass of carbon would be 0.5 times the mass of the tree, or 26,500 kg. Simple!\n",
    "\n",
    "Counting Up the Atoms\n",
    "So far so good. But to talk about atmospheric concentration, what we really need to know is the number of carbon dioxide molecules eliminated. Since each CO2 molecule contains one carbon atom, I need to convert the carbon mass of a tree to numbers. This is where Avogadro's number comes into play, with a value of around 6.022 x 1023 particles per mole. And one mole of carbon has a mass of about 12 grams. That gives us the number of carbon atoms (n) per tree: \n",
    "\n",
    "See https://media.wired.com/photos/5d94faab28aa880008434839/master/w_1600%2Cc_limit/Science_trees_numbercarbon.jpg"
   ],
   "cell_type": "markdown",
   "metadata": {}
  },
  {
   "cell_type": "code",
   "execution_count": 3,
   "metadata": {},
   "outputs": [],
   "source": [
    "mucarbon=0.012          # kg/mole\n",
    "na=6.022e23             # number of atoms\n",
    "#============================================================================\n",
    "mcarbon=fcarbon*mt\n",
    "ncarbon=mcarbon*na/mucarbon"
   ]
  },
  {
   "cell_type": "code",
   "execution_count": null,
   "metadata": {},
   "outputs": [],
   "source": [
    "Then, since everybody plants a tree, and assuming they’re all the same, the total amount of captured carbon atoms (N) would just be that number times 7.5 billion, the population of Earth.\n"
   ]
  },
  {
   "cell_type": "code",
   "execution_count": 5,
   "metadata": {},
   "outputs": [],
   "source": [
    "Ntree=7.5e9             # number of trees\n",
    "NCO2=Ntree*ncarbon"
   ]
  },
  {
   "source": [
    "We're not done yet. We still need to find out how this changes the total concentration of CO2 in the air. For that, we need to estimate the total mass of Earth's atmosphere .... well, that’s kind of daunting. What do physicists do in such situations? We Google it. I get a value of 5 x 1018 kilograms (from Wikipedia again).\n",
    "\n",
    "So, to find the concentration in ppm, I need the molar mass of air. Air is 99 percent nitrogen and oxygen; a weighted average of their masses gives an air molar mass of 28.97 grams per mole. With that, I can calculate the number of air molecules. This uses the same formula as above for n, so I just built it into my computation code."
   ],
   "cell_type": "markdown",
   "metadata": {}
  },
  {
   "cell_type": "code",
   "execution_count": 6,
   "metadata": {},
   "outputs": [
    {
     "output_type": "stream",
     "name": "stdout",
     "text": [
      "Starting CO2 Concentration =  400  ppm\nCO2 with 1 Tree per Person  =  376.0027316201172  ppm\n"
     ]
    }
   ],
   "source": [
    "mair=5e18               #mass of the earth's atmospher in kg\n",
    "muair=28.97e-3          #mass of atmosphere in kg/mol \n",
    "#============================================================================\n",
    "Nair=mair*na/muair\n",
    "fractionCO2=NCO2/Nair\n",
    "ppmCO2=fractionCO2*1e6\n",
    "newppm=400-ppmCO2\n",
    "#============================================================================\n",
    "print(\"Starting CO2 Concentration = \",400,\" ppm\")\n",
    "print(\"CO2 with 1 Tree per Person  = \",newppm,\" ppm\")\n"
   ]
  },
  {
   "source": [
    "Hey, that's not bad! This says that if every one of us took a couple of hours this weekend to plant a tree, it would eventually reduce the carbon dioxide level by around 6 percent from the current level."
   ],
   "cell_type": "markdown",
   "metadata": {}
  },
  {
   "source": [
    "Yes, we made a lot of assumptions, and some of them are obviously wrong—but they’re not crazy-wrong. For example, we simplified by saying the trees are all the same. But allowing them to be different wouldn’t change the result if our generic tree is a good middle-of-the-pack average. The real question is whether our model is biased in one direction or the other.\n",
    "\n",
    "One obvious bias is that we assumed away branches. (I'm trying to picture a poor village smithy standing under a non-spreading chestnut tree …) But that means we probably underestimated the carbon reduction. By how much? That would depend on the species, but I could imagine it increasing the benefit pretty significantly.\n",
    "\n",
    "How about one more quick estimation. If everyone planted a tree, how much land would that require? Let's say they’re planted in a square grid, 5 meters apart, so that each tree takes up an area of 25 square meters. With 7.5 billion trees, that requires 1.8 x 1011 square meters of land, or 72,000 square miles. That's roughly the size of North Dakota.\n",
    "\n",
    "I think we could do that. And with all due respect, North Dakota could use some more trees. Oh, for comparison, the Amazon rain forest has an area of 2.1 million square miles. Please don't burn it down."
   ],
   "cell_type": "markdown",
   "metadata": {}
  },
  {
   "cell_type": "code",
   "execution_count": 13,
   "metadata": {},
   "outputs": [],
   "source": [
    "#Ntree=7.5e9             # number of trees\n",
    "t_dist = 5               # m distance\n",
    "v_tree = t_dist**2       # number of square meters\n",
    "#============================================================================\n",
    "space = Ntree * v_tree"
   ]
  },
  {
   "cell_type": "code",
   "execution_count": 24,
   "metadata": {},
   "outputs": [
    {
     "output_type": "stream",
     "name": "stdout",
     "text": [
      "Space required in square meters: 1.8750e+11\n"
     ]
    }
   ],
   "source": [
    "print(F\"Space required in square meters: {space:.4e}\")"
   ]
  },
  {
   "cell_type": "code",
   "execution_count": null,
   "metadata": {},
   "outputs": [],
   "source": []
  }
 ]
}