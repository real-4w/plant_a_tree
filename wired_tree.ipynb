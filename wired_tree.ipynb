{
 "metadata": {
  "language_info": {
   "codemirror_mode": {
    "name": "ipython",
    "version": 3
   },
   "file_extension": ".py",
   "mimetype": "text/x-python",
   "name": "python",
   "nbconvert_exporter": "python",
   "pygments_lexer": "ipython3",
   "version": "3.8.5-final"
  },
  "orig_nbformat": 2,
  "kernelspec": {
   "name": "python38564bit986bc0583b6a45899642f216beb4a68a",
   "display_name": "Python 3.8.5 64-bit"
  }
 },
 "nbformat": 4,
 "nbformat_minor": 2,
 "cells": [
  {
   "source": [
    "Based on https://www.wired.com/story/plant-a-tree-for-climate-change/\n",
    "\n",
    "Carbon Content of a Tree.\n",
    "\n",
    "I’m going to walk through a rough estimation. This is a good way to approach policy questions on a first cut; if the results are promising, you can always loop back and do a more sophisticated analysis.\n",
    "\n",
    "So to start, let’s figure out how much carbon a single tree can hold. Imagine a generic tree. Since I live in Louisiana, I’m picturing a pine (though we have some awesome oak trees here too).\n",
    "\n",
    "The pine is nice because it has a tractable shape—it's basically just a long skinny cylinder (ignoring the branches). I’ll say it has a diameter (d ) of 1.5 meters and a height (h ) of 15 meters. I can just plug those values into the formula for the volume of a cylinder to get the amount of wood my tree contains. \n",
    "\n",
    "See: https://media.wired.com/photos/5d94faaaa351410008cb5a5b/master/w_1600%2Cc_limit/Science_trees_volume-(1).jpg\n"
   ],
   "cell_type": "markdown",
   "metadata": {}
  },
  {
   "source": [
    "pi=3.14159              # define pi\n",
    "d=1.5                   # diameter of tree m    \n",
    "h=15                    # height of tree\n",
    "rho=500                 # density of tree kg/m^3 \n",
    "#============================================================================\n",
    "V=pi*h*(d/2)**2         \n",
    "mt=rho*V\n",
    "#============================================================================\n",
    "fcarbon=0.5             #fraction carbon in tree\n",
    "#============================================================================\n",
    "mcarbon=fcarbon*mt\n",
    "#============================================================================\n",
    "mucarbon=0.012          #kg/mole\n",
    "na=6.022e23             # number of atoms\n",
    "#============================================================================\n",
    "ncarbon=mcarbon*na/mucarbon\n",
    "#============================================================================\n",
    "Ntree=7.5e9             #number of trees\n",
    "#============================================================================\n",
    "NCO2=Ntree*ncarbon\n",
    "\n",
    "muair=28.97e-3          #mass of atmosphere in kg/mol \n",
    "mair=5e18 #kg\n",
    "#============================================================================\n",
    "Nair=mair*na/muair\n",
    "\n",
    "fractionCO2=NCO2/Nair\n",
    "ppmCO2=fractionCO2*1e6\n",
    "newppm=400-ppmCO2\n",
    "#============================================================================\n",
    "print(\"Starting CO2 Concentration = \",400,\" ppm\")\n",
    "print(\"CO2 with 1 Tree per Person  = \",newppm,\" ppm\")\n"
   ],
   "cell_type": "code",
   "metadata": {},
   "execution_count": null,
   "outputs": []
  },
  {
   "cell_type": "code",
   "execution_count": null,
   "metadata": {},
   "outputs": [],
   "source": []
  },
  {
   "cell_type": "code",
   "execution_count": null,
   "metadata": {},
   "outputs": [],
   "source": []
  }
 ]
}